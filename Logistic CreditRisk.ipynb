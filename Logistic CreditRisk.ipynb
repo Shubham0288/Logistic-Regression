{
 "cells": [
  {
   "cell_type": "code",
   "execution_count": 1,
   "id": "1e205d55-6dcf-44ea-ba0c-0c1d7cb39dea",
   "metadata": {},
   "outputs": [],
   "source": [
    "# LOGISTIC REGRESSION"
   ]
  },
  {
   "cell_type": "code",
   "execution_count": 2,
   "id": "b76de4b4-f7f6-41bd-b102-a09182a2a5b3",
   "metadata": {},
   "outputs": [],
   "source": [
    "# confusion matrix------------->except linear it is ued in all models"
   ]
  },
  {
   "cell_type": "code",
   "execution_count": 3,
   "id": "2ce6e31c-7808-45bb-8c01-3c5f73b71196",
   "metadata": {},
   "outputs": [
    {
     "data": {
      "text/plain": [
       "810"
      ]
     },
     "execution_count": 3,
     "metadata": {},
     "output_type": "execute_result"
    }
   ],
   "source": [
    "500+310"
   ]
  },
  {
   "cell_type": "code",
   "execution_count": 4,
   "id": "56f8d070-01dd-47e3-bb2d-e9c709337616",
   "metadata": {},
   "outputs": [
    {
     "data": {
      "text/plain": [
       "0.6172839506172839"
      ]
     },
     "execution_count": 4,
     "metadata": {},
     "output_type": "execute_result"
    }
   ],
   "source": [
    "500/810"
   ]
  },
  {
   "cell_type": "code",
   "execution_count": 5,
   "id": "aef71b18-7eb3-4419-bb9e-fc920ee928eb",
   "metadata": {},
   "outputs": [
    {
     "data": {
      "text/plain": [
       "490"
      ]
     },
     "execution_count": 5,
     "metadata": {},
     "output_type": "execute_result"
    }
   ],
   "source": [
    "300+190"
   ]
  },
  {
   "cell_type": "code",
   "execution_count": 6,
   "id": "cfee4df8-5a81-4988-ae6e-24474e93b7f2",
   "metadata": {},
   "outputs": [
    {
     "data": {
      "text/plain": [
       "0.6122448979591837"
      ]
     },
     "execution_count": 6,
     "metadata": {},
     "output_type": "execute_result"
    }
   ],
   "source": [
    "300/490"
   ]
  },
  {
   "cell_type": "code",
   "execution_count": 7,
   "id": "80bb70fa-350e-4b73-8da2-356e3461b768",
   "metadata": {},
   "outputs": [
    {
     "data": {
      "text/plain": [
       "7035"
      ]
     },
     "execution_count": 7,
     "metadata": {},
     "output_type": "execute_result"
    }
   ],
   "source": [
    "7000+35"
   ]
  },
  {
   "cell_type": "code",
   "execution_count": 8,
   "id": "ad654067-d8c2-492f-896a-b0f23a4d7301",
   "metadata": {},
   "outputs": [
    {
     "data": {
      "text/plain": [
       "7235"
      ]
     },
     "execution_count": 8,
     "metadata": {},
     "output_type": "execute_result"
    }
   ],
   "source": [
    "7000+80+120+35"
   ]
  },
  {
   "cell_type": "code",
   "execution_count": 9,
   "id": "f05996cf-aacf-4b97-8ddd-e7d654e89ae2",
   "metadata": {},
   "outputs": [
    {
     "data": {
      "text/plain": [
       "0.972356599861783"
      ]
     },
     "execution_count": 9,
     "metadata": {},
     "output_type": "execute_result"
    }
   ],
   "source": [
    "7035/7235"
   ]
  },
  {
   "cell_type": "code",
   "execution_count": 10,
   "id": "934a1e2d-ee2d-4cec-b75f-979635b0d0b0",
   "metadata": {},
   "outputs": [
    {
     "data": {
      "text/plain": [
       "6715"
      ]
     },
     "execution_count": 10,
     "metadata": {},
     "output_type": "execute_result"
    }
   ],
   "source": [
    "6610+105"
   ]
  },
  {
   "cell_type": "code",
   "execution_count": 11,
   "id": "ec9411ca-4f1c-4031-b4ca-ef656988fb06",
   "metadata": {},
   "outputs": [
    {
     "data": {
      "text/plain": [
       "7235"
      ]
     },
     "execution_count": 11,
     "metadata": {},
     "output_type": "execute_result"
    }
   ],
   "source": [
    "6610+510+10+105"
   ]
  },
  {
   "cell_type": "code",
   "execution_count": 12,
   "id": "199c1f77-086c-4c56-9b67-ddbf6c05f16f",
   "metadata": {},
   "outputs": [
    {
     "data": {
      "text/plain": [
       "0.9281271596406357"
      ]
     },
     "execution_count": 12,
     "metadata": {},
     "output_type": "execute_result"
    }
   ],
   "source": [
    "6715/7235"
   ]
  },
  {
   "cell_type": "code",
   "execution_count": 13,
   "id": "fc8e2aae-d7c4-467e-9a29-50d28be5a07f",
   "metadata": {},
   "outputs": [
    {
     "data": {
      "text/plain": [
       "6620"
      ]
     },
     "execution_count": 13,
     "metadata": {},
     "output_type": "execute_result"
    }
   ],
   "source": [
    "6610+10"
   ]
  },
  {
   "cell_type": "code",
   "execution_count": 14,
   "id": "21e0338a-ce95-4194-8018-4eca80cface7",
   "metadata": {},
   "outputs": [
    {
     "data": {
      "text/plain": [
       "7080"
      ]
     },
     "execution_count": 14,
     "metadata": {},
     "output_type": "execute_result"
    }
   ],
   "source": [
    "7000+80"
   ]
  },
  {
   "cell_type": "code",
   "execution_count": 15,
   "id": "6cf11def-5bf0-4091-9e33-2dac4a2c6180",
   "metadata": {},
   "outputs": [
    {
     "data": {
      "text/plain": [
       "0.9984894259818731"
      ]
     },
     "execution_count": 15,
     "metadata": {},
     "output_type": "execute_result"
    }
   ],
   "source": [
    "6610/6620"
   ]
  },
  {
   "cell_type": "code",
   "execution_count": 16,
   "id": "4094b852-da04-44cd-be28-b5daa75e1cf1",
   "metadata": {},
   "outputs": [
    {
     "data": {
      "text/plain": [
       "0.9887005649717514"
      ]
     },
     "execution_count": 16,
     "metadata": {},
     "output_type": "execute_result"
    }
   ],
   "source": [
    "7000/7080"
   ]
  },
  {
   "cell_type": "code",
   "execution_count": 17,
   "id": "765d9ee0-a475-4709-9029-7f44b1d3fa35",
   "metadata": {},
   "outputs": [
    {
     "data": {
      "text/plain": [
       "91.30434782608695"
      ]
     },
     "execution_count": 17,
     "metadata": {},
     "output_type": "execute_result"
    }
   ],
   "source": [
    "105*100/(10+105)"
   ]
  },
  {
   "cell_type": "code",
   "execution_count": 18,
   "id": "826c34f7-3ad1-48bd-83b0-7b49febbf57b",
   "metadata": {},
   "outputs": [
    {
     "data": {
      "text/plain": [
       "30.434782608695652"
      ]
     },
     "execution_count": 18,
     "metadata": {},
     "output_type": "execute_result"
    }
   ],
   "source": [
    "35*100/(80+35)"
   ]
  },
  {
   "cell_type": "code",
   "execution_count": 19,
   "id": "7966ac02-4972-4e9e-9f07-9e82976fb5d1",
   "metadata": {},
   "outputs": [
    {
     "data": {
      "text/plain": [
       "1.6853932584269662"
      ]
     },
     "execution_count": 19,
     "metadata": {},
     "output_type": "execute_result"
    }
   ],
   "source": [
    "120*100/(120+7000)"
   ]
  },
  {
   "cell_type": "code",
   "execution_count": 20,
   "id": "ea22e3b9-3c88-46a3-af80-45b2b8395880",
   "metadata": {},
   "outputs": [
    {
     "data": {
      "text/plain": [
       "7.162921348314606"
      ]
     },
     "execution_count": 20,
     "metadata": {},
     "output_type": "execute_result"
    }
   ],
   "source": [
    "510*100/(510+6610) "
   ]
  },
  {
   "cell_type": "code",
   "execution_count": 21,
   "id": "637de00b-f523-49f4-8f61-d14fca5473d2",
   "metadata": {},
   "outputs": [
    {
     "data": {
      "text/plain": [
       "0.8878504672897196"
      ]
     },
     "execution_count": 21,
     "metadata": {},
     "output_type": "execute_result"
    }
   ],
   "source": [
    "(9000+500)/(9000+500+1000+200)"
   ]
  },
  {
   "cell_type": "code",
   "execution_count": 22,
   "id": "442d8f66-97b2-4030-9ab6-7eef93ba3d44",
   "metadata": {},
   "outputs": [
    {
     "data": {
      "text/plain": [
       "5200"
      ]
     },
     "execution_count": 22,
     "metadata": {},
     "output_type": "execute_result"
    }
   ],
   "source": [
    "4000+1200"
   ]
  },
  {
   "cell_type": "code",
   "execution_count": null,
   "id": "9cbf7bc2-27e0-4ca2-80c1-36a9a0454f46",
   "metadata": {},
   "outputs": [],
   "source": []
  },
  {
   "cell_type": "code",
   "execution_count": 23,
   "id": "ec0199f8-762c-4905-97a6-c6f092cca2e4",
   "metadata": {},
   "outputs": [
    {
     "data": {
      "text/plain": [
       "9785"
      ]
     },
     "execution_count": 23,
     "metadata": {},
     "output_type": "execute_result"
    }
   ],
   "source": [
    "9000+785"
   ]
  },
  {
   "cell_type": "code",
   "execution_count": 24,
   "id": "c61deb14-dfd7-47d9-b53a-1b5f9f506281",
   "metadata": {},
   "outputs": [
    {
     "data": {
      "text/plain": [
       "100500"
      ]
     },
     "execution_count": 24,
     "metadata": {},
     "output_type": "execute_result"
    }
   ],
   "source": [
    "100000+500"
   ]
  },
  {
   "cell_type": "code",
   "execution_count": 25,
   "id": "4f6f0d38-4c0b-4650-9fda-4b17c3bc8784",
   "metadata": {},
   "outputs": [
    {
     "data": {
      "text/plain": [
       "0.0802248339294839"
      ]
     },
     "execution_count": 25,
     "metadata": {},
     "output_type": "execute_result"
    }
   ],
   "source": [
    "785/9785"
   ]
  },
  {
   "cell_type": "code",
   "execution_count": 26,
   "id": "dc6f5578-c0e6-413e-84d5-9a725ef7a35e",
   "metadata": {},
   "outputs": [
    {
     "data": {
      "text/plain": [
       "0.04975124378109453"
      ]
     },
     "execution_count": 26,
     "metadata": {},
     "output_type": "execute_result"
    }
   ],
   "source": [
    "5000/100500"
   ]
  },
  {
   "cell_type": "code",
   "execution_count": 27,
   "id": "5595b7a2-ca69-484a-a8c8-1fa11e4b39d0",
   "metadata": {},
   "outputs": [
    {
     "data": {
      "text/plain": [
       "5.0"
      ]
     },
     "execution_count": 27,
     "metadata": {},
     "output_type": "execute_result"
    }
   ],
   "source": [
    "5000/100000 *100"
   ]
  },
  {
   "cell_type": "code",
   "execution_count": 28,
   "id": "f964d07d-9560-487c-b5dc-c5eedf9eff41",
   "metadata": {},
   "outputs": [
    {
     "data": {
      "text/plain": [
       "3750.0"
      ]
     },
     "execution_count": 28,
     "metadata": {},
     "output_type": "execute_result"
    }
   ],
   "source": [
    "30000/800*100"
   ]
  },
  {
   "cell_type": "code",
   "execution_count": 29,
   "id": "2dc9e4fc-9c54-4c57-bad7-3fbd435b2194",
   "metadata": {},
   "outputs": [
    {
     "data": {
      "text/plain": [
       "3500"
      ]
     },
     "execution_count": 29,
     "metadata": {},
     "output_type": "execute_result"
    }
   ],
   "source": [
    "3000+500"
   ]
  },
  {
   "cell_type": "code",
   "execution_count": 30,
   "id": "a2e14015-9e31-4611-852b-1ef00af908e2",
   "metadata": {},
   "outputs": [
    {
     "data": {
      "text/plain": [
       "0.3157894736842105"
      ]
     },
     "execution_count": 30,
     "metadata": {},
     "output_type": "execute_result"
    }
   ],
   "source": [
    "600/1900"
   ]
  },
  {
   "cell_type": "code",
   "execution_count": 31,
   "id": "c21a6112-91f8-42c0-824f-5629a25f3cc1",
   "metadata": {},
   "outputs": [
    {
     "data": {
      "text/plain": [
       "0.2631578947368421"
      ]
     },
     "execution_count": 31,
     "metadata": {},
     "output_type": "execute_result"
    }
   ],
   "source": [
    "500/1900"
   ]
  },
  {
   "cell_type": "code",
   "execution_count": 32,
   "id": "2a6c379a-255c-43a0-ad51-f0a1dcc36b63",
   "metadata": {},
   "outputs": [
    {
     "data": {
      "text/plain": [
       "0.15789473684210525"
      ]
     },
     "execution_count": 32,
     "metadata": {},
     "output_type": "execute_result"
    }
   ],
   "source": [
    "300/1900"
   ]
  },
  {
   "cell_type": "code",
   "execution_count": 33,
   "id": "1cfde843-8068-45df-9e57-4cb723a34a21",
   "metadata": {},
   "outputs": [
    {
     "data": {
      "text/plain": [
       "0.7714285714285715"
      ]
     },
     "execution_count": 33,
     "metadata": {},
     "output_type": "execute_result"
    }
   ],
   "source": [
    "2700/3500 #----->tpr 3rd model"
   ]
  },
  {
   "cell_type": "code",
   "execution_count": 34,
   "id": "a503a088-8222-4f7c-a818-ce565114a1e2",
   "metadata": {},
   "outputs": [
    {
     "data": {
      "text/plain": [
       "0.15789473684210525"
      ]
     },
     "execution_count": 34,
     "metadata": {},
     "output_type": "execute_result"
    }
   ],
   "source": [
    "300/1900 #----->fpr 3rd model"
   ]
  },
  {
   "cell_type": "code",
   "execution_count": 35,
   "id": "c336019a-565b-4d45-ac89-1f10b79a4926",
   "metadata": {},
   "outputs": [
    {
     "data": {
      "text/plain": [
       "0.7962962962962963"
      ]
     },
     "execution_count": 35,
     "metadata": {},
     "output_type": "execute_result"
    }
   ],
   "source": [
    "(1600+2700)/(1600+300+800+2700)"
   ]
  },
  {
   "cell_type": "code",
   "execution_count": 36,
   "id": "b9812df5-2d26-48e8-bd56-644d617f5bf8",
   "metadata": {},
   "outputs": [
    {
     "data": {
      "text/plain": [
       "0.8279569892473119"
      ]
     },
     "execution_count": 36,
     "metadata": {},
     "output_type": "execute_result"
    }
   ],
   "source": [
    "(7400+300)/(7400+800+800+300)"
   ]
  },
  {
   "cell_type": "code",
   "execution_count": 37,
   "id": "442d9092-52cd-4ba1-98b7-1f8f8b352992",
   "metadata": {},
   "outputs": [
    {
     "data": {
      "text/plain": [
       "69.89247311827957"
      ]
     },
     "execution_count": 37,
     "metadata": {},
     "output_type": "execute_result"
    }
   ],
   "source": [
    "(6000+500)/(6000+500+2200+600)*100"
   ]
  },
  {
   "cell_type": "code",
   "execution_count": 38,
   "id": "9b582179-9127-49a2-afaa-d840872f6274",
   "metadata": {},
   "outputs": [
    {
     "data": {
      "text/plain": [
       "0.2727272727272727"
      ]
     },
     "execution_count": 38,
     "metadata": {},
     "output_type": "execute_result"
    }
   ],
   "source": [
    "300/(800+300)"
   ]
  },
  {
   "cell_type": "code",
   "execution_count": 39,
   "id": "9010462f-79b2-461a-a8e4-618cd8c5468a",
   "metadata": {},
   "outputs": [
    {
     "data": {
      "text/plain": [
       "9.75609756097561"
      ]
     },
     "execution_count": 39,
     "metadata": {},
     "output_type": "execute_result"
    }
   ],
   "source": [
    "800/(7400+800)*100"
   ]
  },
  {
   "cell_type": "code",
   "execution_count": 40,
   "id": "c305d6f7-981e-4ef8-bb8a-f8ff12e9e627",
   "metadata": {},
   "outputs": [
    {
     "data": {
      "text/plain": [
       "0.45454545454545453"
      ]
     },
     "execution_count": 40,
     "metadata": {},
     "output_type": "execute_result"
    }
   ],
   "source": [
    "500/(600+500)"
   ]
  },
  {
   "cell_type": "code",
   "execution_count": 41,
   "id": "efb49f20-9406-4019-b1fd-af58cfc5e5f1",
   "metadata": {},
   "outputs": [
    {
     "data": {
      "text/plain": [
       "0.2682926829268293"
      ]
     },
     "execution_count": 41,
     "metadata": {},
     "output_type": "execute_result"
    }
   ],
   "source": [
    "2200/(2200+6000)"
   ]
  },
  {
   "cell_type": "code",
   "execution_count": 42,
   "id": "c1d8cdb4-3b4d-40b2-bf3b-e63ddf08b0dd",
   "metadata": {},
   "outputs": [
    {
     "data": {
      "text/plain": [
       "1100"
      ]
     },
     "execution_count": 42,
     "metadata": {},
     "output_type": "execute_result"
    }
   ],
   "source": [
    "800+300"
   ]
  },
  {
   "cell_type": "code",
   "execution_count": 43,
   "id": "f03c55a7-9a10-4240-8917-6cbfd9df35c9",
   "metadata": {},
   "outputs": [
    {
     "data": {
      "text/plain": [
       "8200"
      ]
     },
     "execution_count": 43,
     "metadata": {},
     "output_type": "execute_result"
    }
   ],
   "source": [
    "7400+800"
   ]
  },
  {
   "cell_type": "code",
   "execution_count": 44,
   "id": "26bab62c-5bce-476f-90a8-43d2b1bb3342",
   "metadata": {},
   "outputs": [
    {
     "data": {
      "text/plain": [
       "8200"
      ]
     },
     "execution_count": 44,
     "metadata": {},
     "output_type": "execute_result"
    }
   ],
   "source": [
    "6000+2200"
   ]
  },
  {
   "cell_type": "code",
   "execution_count": 45,
   "id": "6b18513a-4f74-4871-8dc9-5365af469c6d",
   "metadata": {},
   "outputs": [
    {
     "data": {
      "text/plain": [
       "1100"
      ]
     },
     "execution_count": 45,
     "metadata": {},
     "output_type": "execute_result"
    }
   ],
   "source": [
    "600+500"
   ]
  },
  {
   "cell_type": "markdown",
   "id": "afda3db6-89d1-459e-8c95-b473e75d5076",
   "metadata": {},
   "source": [
    "## logistic regression"
   ]
  },
  {
   "cell_type": "code",
   "execution_count": 46,
   "id": "0f8a2e20-15f4-4fdc-8a0f-3d282eb900b2",
   "metadata": {},
   "outputs": [],
   "source": [
    "# we talk in term of probablity ---> range of prop is 0 to 1 ---> 0 means event not  occur 1 means event occur\n",
    "# prob of class zero ---> q\n",
    "# prob of class one ---> p\n",
    "# p+q=1"
   ]
  },
  {
   "cell_type": "code",
   "execution_count": 47,
   "id": "ad823ff1-331c-4baf-ad23-6d7782caa41e",
   "metadata": {},
   "outputs": [],
   "source": [
    "# logistic regression\n",
    "# ln(p/(1-p))\n",
    "# this is equal to \n",
    "# ln(p/q) # p+q=1---> q=1-q"
   ]
  },
  {
   "cell_type": "code",
   "execution_count": 48,
   "id": "4846c3c9-d42e-4439-ac48-3f30ab991ae6",
   "metadata": {},
   "outputs": [
    {
     "data": {
      "text/plain": [
       "0.0"
      ]
     },
     "execution_count": 48,
     "metadata": {},
     "output_type": "execute_result"
    }
   ],
   "source": [
    "import numpy as np\n",
    "p=.5\n",
    "q=1-p\n",
    "np.log(p/(1-p))"
   ]
  },
  {
   "cell_type": "code",
   "execution_count": 49,
   "id": "adb13e17-0f52-4c97-a851-cbc29820a82c",
   "metadata": {},
   "outputs": [
    {
     "data": {
      "text/plain": [
       "0.4054651081081642"
      ]
     },
     "execution_count": 49,
     "metadata": {},
     "output_type": "execute_result"
    }
   ],
   "source": [
    "import numpy as np\n",
    "p=.6\n",
    "q=1-p\n",
    "np.log(p/(1-p))"
   ]
  },
  {
   "cell_type": "code",
   "execution_count": 50,
   "id": "f38f65d7-f06d-4ca7-8a24-6fbe75ce2d46",
   "metadata": {},
   "outputs": [
    {
     "data": {
      "text/plain": [
       "2.1972245773362196"
      ]
     },
     "execution_count": 50,
     "metadata": {},
     "output_type": "execute_result"
    }
   ],
   "source": [
    "import numpy as np\n",
    "p=.9 # p will range upto 1 becoz p is prob \n",
    "q=1-p\n",
    "np.log(p/(1-p))"
   ]
  },
  {
   "cell_type": "code",
   "execution_count": 51,
   "id": "7f0868b1-11ac-4652-92b1-165a3faca873",
   "metadata": {},
   "outputs": [],
   "source": [
    "# we always calculate p value for class 1"
   ]
  },
  {
   "cell_type": "code",
   "execution_count": 52,
   "id": "07e06554-dc52-4ec4-a9b0-d8c6a0a61a02",
   "metadata": {},
   "outputs": [],
   "source": [
    "# when p --->imcreasing or moving towards 1 ( from 0.5,0.6,0.6 )np.log(p/(1-p)) moves towards infinity\n",
    "# when p --->decreaing or moving  towards 0 np.log(p/(1-p)) moves towards negative infinity"
   ]
  },
  {
   "cell_type": "code",
   "execution_count": 53,
   "id": "6a6361a4-886c-4bef-8108-8d5a6a913eed",
   "metadata": {},
   "outputs": [],
   "source": [
    "# if p value (prob for class 1) is less than .5 we say event 0 will occur\n",
    "# if p value value is more than or equal to 0.5 event 1 is said to be occur"
   ]
  },
  {
   "cell_type": "code",
   "execution_count": 54,
   "id": "5ab108c3-f0d7-4d5f-acba-eaa85a785432",
   "metadata": {},
   "outputs": [],
   "source": [
    "import pandas as pd"
   ]
  },
  {
   "cell_type": "code",
   "execution_count": 55,
   "id": "de9d5a00-5731-47a8-b658-f353593e09b6",
   "metadata": {},
   "outputs": [],
   "source": [
    "cr=pd.read_csv(r\"D:\\Imarticus Learning\\DATASETS\\CreditRisk.csv\")"
   ]
  },
  {
   "cell_type": "code",
   "execution_count": 56,
   "id": "7fbbe7af-f91d-4ce6-a7a7-aadda84c7fe3",
   "metadata": {},
   "outputs": [
    {
     "data": {
      "text/html": [
       "<div>\n",
       "<style scoped>\n",
       "    .dataframe tbody tr th:only-of-type {\n",
       "        vertical-align: middle;\n",
       "    }\n",
       "\n",
       "    .dataframe tbody tr th {\n",
       "        vertical-align: top;\n",
       "    }\n",
       "\n",
       "    .dataframe thead th {\n",
       "        text-align: right;\n",
       "    }\n",
       "</style>\n",
       "<table border=\"1\" class=\"dataframe\">\n",
       "  <thead>\n",
       "    <tr style=\"text-align: right;\">\n",
       "      <th></th>\n",
       "      <th>Loan_ID</th>\n",
       "      <th>Gender</th>\n",
       "      <th>Married</th>\n",
       "      <th>Dependents</th>\n",
       "      <th>Education</th>\n",
       "      <th>Self_Employed</th>\n",
       "      <th>ApplicantIncome</th>\n",
       "      <th>CoapplicantIncome</th>\n",
       "      <th>LoanAmount</th>\n",
       "      <th>Loan_Amount_Term</th>\n",
       "      <th>Credit_History</th>\n",
       "      <th>Property_Area</th>\n",
       "      <th>Loan_Status</th>\n",
       "    </tr>\n",
       "  </thead>\n",
       "  <tbody>\n",
       "    <tr>\n",
       "      <th>0</th>\n",
       "      <td>LP001002</td>\n",
       "      <td>Male</td>\n",
       "      <td>No</td>\n",
       "      <td>0.0</td>\n",
       "      <td>Graduate</td>\n",
       "      <td>No</td>\n",
       "      <td>5849</td>\n",
       "      <td>0.0</td>\n",
       "      <td>NaN</td>\n",
       "      <td>360.0</td>\n",
       "      <td>1.0</td>\n",
       "      <td>Urban</td>\n",
       "      <td>Y</td>\n",
       "    </tr>\n",
       "    <tr>\n",
       "      <th>1</th>\n",
       "      <td>LP001003</td>\n",
       "      <td>Male</td>\n",
       "      <td>Yes</td>\n",
       "      <td>1.0</td>\n",
       "      <td>Graduate</td>\n",
       "      <td>No</td>\n",
       "      <td>4583</td>\n",
       "      <td>1508.0</td>\n",
       "      <td>128.0</td>\n",
       "      <td>360.0</td>\n",
       "      <td>1.0</td>\n",
       "      <td>Rural</td>\n",
       "      <td>N</td>\n",
       "    </tr>\n",
       "    <tr>\n",
       "      <th>2</th>\n",
       "      <td>LP001005</td>\n",
       "      <td>Male</td>\n",
       "      <td>Yes</td>\n",
       "      <td>0.0</td>\n",
       "      <td>Graduate</td>\n",
       "      <td>Yes</td>\n",
       "      <td>3000</td>\n",
       "      <td>0.0</td>\n",
       "      <td>66.0</td>\n",
       "      <td>360.0</td>\n",
       "      <td>1.0</td>\n",
       "      <td>Urban</td>\n",
       "      <td>Y</td>\n",
       "    </tr>\n",
       "    <tr>\n",
       "      <th>3</th>\n",
       "      <td>LP001006</td>\n",
       "      <td>Male</td>\n",
       "      <td>Yes</td>\n",
       "      <td>0.0</td>\n",
       "      <td>Not Graduate</td>\n",
       "      <td>No</td>\n",
       "      <td>2583</td>\n",
       "      <td>2358.0</td>\n",
       "      <td>120.0</td>\n",
       "      <td>360.0</td>\n",
       "      <td>1.0</td>\n",
       "      <td>Urban</td>\n",
       "      <td>Y</td>\n",
       "    </tr>\n",
       "    <tr>\n",
       "      <th>4</th>\n",
       "      <td>LP001008</td>\n",
       "      <td>Male</td>\n",
       "      <td>No</td>\n",
       "      <td>0.0</td>\n",
       "      <td>Graduate</td>\n",
       "      <td>No</td>\n",
       "      <td>6000</td>\n",
       "      <td>0.0</td>\n",
       "      <td>141.0</td>\n",
       "      <td>360.0</td>\n",
       "      <td>1.0</td>\n",
       "      <td>Urban</td>\n",
       "      <td>Y</td>\n",
       "    </tr>\n",
       "  </tbody>\n",
       "</table>\n",
       "</div>"
      ],
      "text/plain": [
       "    Loan_ID Gender Married  Dependents     Education Self_Employed  \\\n",
       "0  LP001002   Male      No         0.0      Graduate            No   \n",
       "1  LP001003   Male     Yes         1.0      Graduate            No   \n",
       "2  LP001005   Male     Yes         0.0      Graduate           Yes   \n",
       "3  LP001006   Male     Yes         0.0  Not Graduate            No   \n",
       "4  LP001008   Male      No         0.0      Graduate            No   \n",
       "\n",
       "   ApplicantIncome  CoapplicantIncome  LoanAmount  Loan_Amount_Term  \\\n",
       "0             5849                0.0         NaN             360.0   \n",
       "1             4583             1508.0       128.0             360.0   \n",
       "2             3000                0.0        66.0             360.0   \n",
       "3             2583             2358.0       120.0             360.0   \n",
       "4             6000                0.0       141.0             360.0   \n",
       "\n",
       "   Credit_History Property_Area Loan_Status  \n",
       "0             1.0         Urban           Y  \n",
       "1             1.0         Rural           N  \n",
       "2             1.0         Urban           Y  \n",
       "3             1.0         Urban           Y  \n",
       "4             1.0         Urban           Y  "
      ]
     },
     "execution_count": 56,
     "metadata": {},
     "output_type": "execute_result"
    }
   ],
   "source": [
    "cr.head()"
   ]
  },
  {
   "cell_type": "code",
   "execution_count": 57,
   "id": "f6b62609-2597-4be4-ae7b-ce3f73f235a6",
   "metadata": {},
   "outputs": [
    {
     "data": {
      "text/plain": [
       "Gender              24\n",
       "Married              3\n",
       "Dependents          25\n",
       "Self_Employed       55\n",
       "LoanAmount          27\n",
       "Loan_Amount_Term    20\n",
       "Credit_History      79\n",
       "dtype: int64"
      ]
     },
     "execution_count": 57,
     "metadata": {},
     "output_type": "execute_result"
    }
   ],
   "source": [
    "cr.isnull().sum()[cr.isnull().sum()>0]"
   ]
  },
  {
   "cell_type": "code",
   "execution_count": 58,
   "id": "f74acbb7-d3e9-41cd-b559-7a9dc6437eb0",
   "metadata": {},
   "outputs": [],
   "source": [
    "cr=cr.drop(['Loan_ID'],axis=1)"
   ]
  },
  {
   "cell_type": "code",
   "execution_count": 59,
   "id": "45b921bb-1fea-46a1-bc99-e1514b96c33f",
   "metadata": {},
   "outputs": [],
   "source": [
    "cr.Gender.fillna(\"Male\",inplace=True);\n",
    "cr.Married.fillna(\"Yes\",inplace=True);\n",
    "cr.Dependents.fillna(cr.Dependents.mean(),inplace=True);\n",
    "cr.Self_Employed.fillna(\"No\",inplace=True);\n",
    "cr.LoanAmount.fillna(cr.LoanAmount.mean(),inplace=True);\n",
    "cr.Loan_Amount_Term.fillna(cr.Loan_Amount_Term.mean(),inplace=True);\n",
    "cr.Credit_History.fillna(0,inplace=True);"
   ]
  },
  {
   "cell_type": "code",
   "execution_count": 60,
   "id": "e5f9460f-4c2a-41bc-a8be-f91e3eaa7d53",
   "metadata": {},
   "outputs": [
    {
     "data": {
      "text/plain": [
       "Series([], dtype: int64)"
      ]
     },
     "execution_count": 60,
     "metadata": {},
     "output_type": "execute_result"
    }
   ],
   "source": [
    "cr.isnull().sum()[cr.isnull().sum()>0]"
   ]
  },
  {
   "cell_type": "code",
   "execution_count": 61,
   "id": "624c3ed7-1fa2-4bc7-b3d5-8ed0293453e5",
   "metadata": {},
   "outputs": [],
   "source": [
    "cr.Gender.replace({\"Male\":0,\"Female\":1},inplace=True)\n",
    "cr.Married.replace({\"No\":0,\"Yes\":1},inplace=True)\n",
    "cr.Education.replace({\"Graduate\":1,\"Not Graduate\":0},inplace=True)\n",
    "cr.Self_Employed.replace({\"No\":0,\"Yes\":1},inplace=True)\n",
    "cr.Property_Area.replace({\"Urban\":2,\"Rural\":1,'Semiurban':0},inplace=True)\n",
    "cr.Loan_Status.replace({\"Y\":1,\"N\":0},inplace=True)"
   ]
  },
  {
   "cell_type": "code",
   "execution_count": 62,
   "id": "66375821-df6a-4d62-a342-f5d1f0623f28",
   "metadata": {},
   "outputs": [
    {
     "data": {
      "text/plain": [
       "Index([], dtype='object')"
      ]
     },
     "execution_count": 62,
     "metadata": {},
     "output_type": "execute_result"
    }
   ],
   "source": [
    "cr.select_dtypes(include='object').columns"
   ]
  },
  {
   "cell_type": "code",
   "execution_count": 63,
   "id": "04a6af99-590b-466e-aeff-4d7f29d3a555",
   "metadata": {},
   "outputs": [
    {
     "data": {
      "text/plain": [
       "Series([], dtype: int64)"
      ]
     },
     "execution_count": 63,
     "metadata": {},
     "output_type": "execute_result"
    }
   ],
   "source": [
    "cr.isnull().sum()[cr.isnull().sum()>0]"
   ]
  },
  {
   "cell_type": "code",
   "execution_count": 64,
   "id": "26306a5d-1979-48c4-8eec-4e30469d49a1",
   "metadata": {},
   "outputs": [],
   "source": [
    "from sklearn.model_selection import train_test_split"
   ]
  },
  {
   "cell_type": "code",
   "execution_count": 65,
   "id": "f7b7263d-3a7b-4ead-b2cc-2c5f984327c2",
   "metadata": {},
   "outputs": [],
   "source": [
    "train_cr , test_cr= train_test_split(cr,test_size=.2)"
   ]
  },
  {
   "cell_type": "code",
   "execution_count": 66,
   "id": "2d29eb85-792d-4c87-a7e6-5e49708d97e0",
   "metadata": {},
   "outputs": [],
   "source": [
    "train_cr_x=train_cr.iloc[:,0:-1]\n",
    "train_cr_y=train_cr.iloc[:,-1]"
   ]
  },
  {
   "cell_type": "code",
   "execution_count": 67,
   "id": "5cc14de2-af64-4f5a-b973-4a8704486dc6",
   "metadata": {},
   "outputs": [],
   "source": [
    "test_cr_x=test_cr.iloc[:,0:-1]\n",
    "test_cr_y=test_cr.iloc[:,-1]"
   ]
  },
  {
   "cell_type": "code",
   "execution_count": 68,
   "id": "6e380c61-2c56-4b3e-9d41-dfa1a8d4dc04",
   "metadata": {},
   "outputs": [
    {
     "data": {
      "text/plain": [
       "0.5625"
      ]
     },
     "execution_count": 68,
     "metadata": {},
     "output_type": "execute_result"
    }
   ],
   "source": [
    "27/(27+21)"
   ]
  },
  {
   "cell_type": "code",
   "execution_count": 69,
   "id": "bb48ab4b-a421-45b6-b0ce-a8f00d01083a",
   "metadata": {},
   "outputs": [
    {
     "data": {
      "text/html": [
       "<style>#sk-container-id-1 {color: black;background-color: white;}#sk-container-id-1 pre{padding: 0;}#sk-container-id-1 div.sk-toggleable {background-color: white;}#sk-container-id-1 label.sk-toggleable__label {cursor: pointer;display: block;width: 100%;margin-bottom: 0;padding: 0.3em;box-sizing: border-box;text-align: center;}#sk-container-id-1 label.sk-toggleable__label-arrow:before {content: \"▸\";float: left;margin-right: 0.25em;color: #696969;}#sk-container-id-1 label.sk-toggleable__label-arrow:hover:before {color: black;}#sk-container-id-1 div.sk-estimator:hover label.sk-toggleable__label-arrow:before {color: black;}#sk-container-id-1 div.sk-toggleable__content {max-height: 0;max-width: 0;overflow: hidden;text-align: left;background-color: #f0f8ff;}#sk-container-id-1 div.sk-toggleable__content pre {margin: 0.2em;color: black;border-radius: 0.25em;background-color: #f0f8ff;}#sk-container-id-1 input.sk-toggleable__control:checked~div.sk-toggleable__content {max-height: 200px;max-width: 100%;overflow: auto;}#sk-container-id-1 input.sk-toggleable__control:checked~label.sk-toggleable__label-arrow:before {content: \"▾\";}#sk-container-id-1 div.sk-estimator input.sk-toggleable__control:checked~label.sk-toggleable__label {background-color: #d4ebff;}#sk-container-id-1 div.sk-label input.sk-toggleable__control:checked~label.sk-toggleable__label {background-color: #d4ebff;}#sk-container-id-1 input.sk-hidden--visually {border: 0;clip: rect(1px 1px 1px 1px);clip: rect(1px, 1px, 1px, 1px);height: 1px;margin: -1px;overflow: hidden;padding: 0;position: absolute;width: 1px;}#sk-container-id-1 div.sk-estimator {font-family: monospace;background-color: #f0f8ff;border: 1px dotted black;border-radius: 0.25em;box-sizing: border-box;margin-bottom: 0.5em;}#sk-container-id-1 div.sk-estimator:hover {background-color: #d4ebff;}#sk-container-id-1 div.sk-parallel-item::after {content: \"\";width: 100%;border-bottom: 1px solid gray;flex-grow: 1;}#sk-container-id-1 div.sk-label:hover label.sk-toggleable__label {background-color: #d4ebff;}#sk-container-id-1 div.sk-serial::before {content: \"\";position: absolute;border-left: 1px solid gray;box-sizing: border-box;top: 0;bottom: 0;left: 50%;z-index: 0;}#sk-container-id-1 div.sk-serial {display: flex;flex-direction: column;align-items: center;background-color: white;padding-right: 0.2em;padding-left: 0.2em;position: relative;}#sk-container-id-1 div.sk-item {position: relative;z-index: 1;}#sk-container-id-1 div.sk-parallel {display: flex;align-items: stretch;justify-content: center;background-color: white;position: relative;}#sk-container-id-1 div.sk-item::before, #sk-container-id-1 div.sk-parallel-item::before {content: \"\";position: absolute;border-left: 1px solid gray;box-sizing: border-box;top: 0;bottom: 0;left: 50%;z-index: -1;}#sk-container-id-1 div.sk-parallel-item {display: flex;flex-direction: column;z-index: 1;position: relative;background-color: white;}#sk-container-id-1 div.sk-parallel-item:first-child::after {align-self: flex-end;width: 50%;}#sk-container-id-1 div.sk-parallel-item:last-child::after {align-self: flex-start;width: 50%;}#sk-container-id-1 div.sk-parallel-item:only-child::after {width: 0;}#sk-container-id-1 div.sk-dashed-wrapped {border: 1px dashed gray;margin: 0 0.4em 0.5em 0.4em;box-sizing: border-box;padding-bottom: 0.4em;background-color: white;}#sk-container-id-1 div.sk-label label {font-family: monospace;font-weight: bold;display: inline-block;line-height: 1.2em;}#sk-container-id-1 div.sk-label-container {text-align: center;}#sk-container-id-1 div.sk-container {/* jupyter's `normalize.less` sets `[hidden] { display: none; }` but bootstrap.min.css set `[hidden] { display: none !important; }` so we also need the `!important` here to be able to override the default hidden behavior on the sphinx rendered scikit-learn.org. See: https://github.com/scikit-learn/scikit-learn/issues/21755 */display: inline-block !important;position: relative;}#sk-container-id-1 div.sk-text-repr-fallback {display: none;}</style><div id=\"sk-container-id-1\" class=\"sk-top-container\"><div class=\"sk-text-repr-fallback\"><pre>LogisticRegression()</pre><b>In a Jupyter environment, please rerun this cell to show the HTML representation or trust the notebook. <br />On GitHub, the HTML representation is unable to render, please try loading this page with nbviewer.org.</b></div><div class=\"sk-container\" hidden><div class=\"sk-item\"><div class=\"sk-estimator sk-toggleable\"><input class=\"sk-toggleable__control sk-hidden--visually\" id=\"sk-estimator-id-1\" type=\"checkbox\" checked><label for=\"sk-estimator-id-1\" class=\"sk-toggleable__label sk-toggleable__label-arrow\">LogisticRegression</label><div class=\"sk-toggleable__content\"><pre>LogisticRegression()</pre></div></div></div></div></div>"
      ],
      "text/plain": [
       "LogisticRegression()"
      ]
     },
     "execution_count": 69,
     "metadata": {},
     "output_type": "execute_result"
    }
   ],
   "source": [
    "from sklearn.linear_model import LogisticRegression\n",
    "logreg=LogisticRegression()\n",
    "logreg.fit(train_cr_x,train_cr_y)"
   ]
  },
  {
   "cell_type": "code",
   "execution_count": 70,
   "id": "caaa2082-4ae9-4cb8-8492-2358d8b4012a",
   "metadata": {},
   "outputs": [],
   "source": [
    "pred_test=logreg.predict(test_cr_x)\n"
   ]
  },
  {
   "cell_type": "code",
   "execution_count": 71,
   "id": "6be2a6bf-763d-40e2-b5ab-f25dd23ff80a",
   "metadata": {},
   "outputs": [],
   "source": [
    "from sklearn.metrics import confusion_matrix"
   ]
  },
  {
   "cell_type": "code",
   "execution_count": 72,
   "id": "c5f9fbfd-c5c9-4fd3-a872-146e00959b46",
   "metadata": {},
   "outputs": [],
   "source": [
    "tab1=confusion_matrix(test_cr_y,pred_test)"
   ]
  },
  {
   "cell_type": "code",
   "execution_count": 73,
   "id": "5393c7bd-64ec-487c-9516-934198e85d77",
   "metadata": {},
   "outputs": [
    {
     "data": {
      "text/plain": [
       "array([[ 34,  21],\n",
       "       [ 18, 124]], dtype=int64)"
      ]
     },
     "execution_count": 73,
     "metadata": {},
     "output_type": "execute_result"
    }
   ],
   "source": [
    "tab1"
   ]
  },
  {
   "cell_type": "code",
   "execution_count": 74,
   "id": "ddbf59f6-431b-404c-ba7e-962383bb6a02",
   "metadata": {},
   "outputs": [],
   "source": [
    "acc=tab1.diagonal().sum()*100/tab1.sum()"
   ]
  },
  {
   "cell_type": "code",
   "execution_count": 75,
   "id": "a33fe5fa-b1a8-4ae6-88cf-4a1bd5e3fe7f",
   "metadata": {},
   "outputs": [
    {
     "data": {
      "text/plain": [
       "80.20304568527919"
      ]
     },
     "execution_count": 75,
     "metadata": {},
     "output_type": "execute_result"
    }
   ],
   "source": [
    "acc"
   ]
  },
  {
   "cell_type": "code",
   "execution_count": 81,
   "id": "ae2df114-ad3a-4323-98d1-e4797e3bb368",
   "metadata": {},
   "outputs": [],
   "source": [
    "from sklearn.metrics import precision_score , recall_score, f1_score, accuracy_score"
   ]
  },
  {
   "cell_type": "code",
   "execution_count": 82,
   "id": "ba854298",
   "metadata": {},
   "outputs": [
    {
     "data": {
      "text/plain": [
       "0.8551724137931035"
      ]
     },
     "execution_count": 82,
     "metadata": {},
     "output_type": "execute_result"
    }
   ],
   "source": [
    "precision_score(test_cr_y,pred_test)"
   ]
  },
  {
   "cell_type": "code",
   "execution_count": 83,
   "id": "53f753f7",
   "metadata": {},
   "outputs": [
    {
     "data": {
      "text/plain": [
       "0.8732394366197183"
      ]
     },
     "execution_count": 83,
     "metadata": {},
     "output_type": "execute_result"
    }
   ],
   "source": [
    "recall_score(test_cr_y,pred_test)"
   ]
  },
  {
   "cell_type": "code",
   "execution_count": 84,
   "id": "31fc7cb5",
   "metadata": {},
   "outputs": [
    {
     "data": {
      "text/plain": [
       "0.8641114982578396"
      ]
     },
     "execution_count": 84,
     "metadata": {},
     "output_type": "execute_result"
    }
   ],
   "source": [
    "f1_score(test_cr_y,pred_test)"
   ]
  },
  {
   "cell_type": "code",
   "execution_count": 85,
   "id": "4ece2d16",
   "metadata": {},
   "outputs": [
    {
     "data": {
      "text/plain": [
       "0.8020304568527918"
      ]
     },
     "execution_count": 85,
     "metadata": {},
     "output_type": "execute_result"
    }
   ],
   "source": [
    "accuracy_score(test_cr_y,pred_test)"
   ]
  },
  {
   "cell_type": "code",
   "execution_count": 90,
   "id": "628d8666",
   "metadata": {},
   "outputs": [],
   "source": [
    "pred_cr_test_prob=logreg.predict_proba(test_cr_x)"
   ]
  },
  {
   "cell_type": "code",
   "execution_count": 91,
   "id": "1281963f",
   "metadata": {},
   "outputs": [
    {
     "data": {
      "text/plain": [
       "numpy.ndarray"
      ]
     },
     "execution_count": 91,
     "metadata": {},
     "output_type": "execute_result"
    }
   ],
   "source": [
    "type(pred_cr_test_prob)"
   ]
  },
  {
   "cell_type": "code",
   "execution_count": 93,
   "id": "0918a7d7",
   "metadata": {},
   "outputs": [
    {
     "data": {
      "text/plain": [
       "(197, 2)"
      ]
     },
     "execution_count": 93,
     "metadata": {},
     "output_type": "execute_result"
    }
   ],
   "source": [
    "pred_cr_test_prob.shape"
   ]
  },
  {
   "cell_type": "code",
   "execution_count": 94,
   "id": "7f0b8b36",
   "metadata": {},
   "outputs": [],
   "source": [
    "# auroc curve\n",
    "from sklearn.metrics import roc_auc_score, roc_curve"
   ]
  },
  {
   "cell_type": "code",
   "execution_count": 95,
   "id": "edba8a01",
   "metadata": {},
   "outputs": [
    {
     "data": {
      "text/plain": [
       "0.820358514724712"
      ]
     },
     "execution_count": 95,
     "metadata": {},
     "output_type": "execute_result"
    }
   ],
   "source": [
    "roc_auc_score(test_cr_y,pred_cr_test_prob[:,1])\n",
    "# area under the curve"
   ]
  },
  {
   "cell_type": "code",
   "execution_count": 97,
   "id": "3fc0e963",
   "metadata": {},
   "outputs": [],
   "source": [
    "fpr, tpr, threshold=roc_curve(test_cr_y,pred_cr_test_prob[:,1])"
   ]
  },
  {
   "cell_type": "code",
   "execution_count": 98,
   "id": "fe09aff8",
   "metadata": {},
   "outputs": [],
   "source": [
    "import matplotlib.pyplot as plt"
   ]
  },
  {
   "cell_type": "code",
   "execution_count": 99,
   "id": "ee0817dd",
   "metadata": {},
   "outputs": [
    {
     "data": {
      "text/plain": [
       "[<matplotlib.lines.Line2D at 0x1a590203f70>]"
      ]
     },
     "execution_count": 99,
     "metadata": {},
     "output_type": "execute_result"
    },
    {
     "data": {
      "image/png": "[encoded data removed]",
      "text/plain": [
       "<Figure size 640x480 with 1 Axes>"
      ]
     },
     "metadata": {},
     "output_type": "display_data"
    }
   ],
   "source": [
    "plt.plot(fpr,tpr)"
   ]
  },
  {
   "cell_type": "code",
   "execution_count": null,
   "id": "26ce0526",
   "metadata": {},
   "outputs": [],
   "source": []
  }
 ],
 "metadata": {
  "kernelspec": {
   "display_name": "Python 3 (ipykernel)",
   "language": "python",
   "name": "python3"
  },
  "language_info": {
   "codemirror_mode": {
    "name": "ipython",
    "version": 3
   },
   "file_extension": ".py",
   "mimetype": "text/x-python",
   "name": "python",
   "nbconvert_exporter": "python",
   "pygments_lexer": "ipython3",
   "version": "3.10.9"
  }
 },
 "nbformat": 4,
 "nbformat_minor": 5
}
